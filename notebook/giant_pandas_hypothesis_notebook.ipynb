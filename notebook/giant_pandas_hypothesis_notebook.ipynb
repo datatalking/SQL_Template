{
 "cells": [
  {
   "cell_type": "raw",
   "source": [
    "# %%\n",
    "# SOURCE\n",
    "# REFERENCE https://pandas.pydata.org/pandas-docs/version/1.3/development/contributing_codebase.html\n",
    "# %%\n",
    "import json\n",
    "from hypothesis import given, strategies as st\n",
    "\n",
    "\n",
    "any_json_value = st.deferred(\n",
    "    lambda: st.one_of(\n",
    "        st.none(),\n",
    "        st.booleans(),\n",
    "        st.floats(allow_nan=False),\n",
    "        st.text(),\n",
    "        st.lists(any_json_value),\n",
    "        st.dictionaries(st.text(), any_json_value),\n",
    "    )\n",
    ")\n",
    "\n",
    "\n",
    "@given(value=any_json_value)\n",
    "def test_json_roundtrip(value):\n",
    "    result = json.loads(json.dumps(value))\n",
    "    assert value == result\n",
    "\n",
    "\n",
    "# %%\n"
   ],
   "metadata": {
    "collapsed": false,
    "pycharm": {
     "name": ""
    }
   }
  }
 ],
 "metadata": {
  "kernelspec": {
   "display_name": "Python 3",
   "language": "python",
   "name": "python3"
  },
  "language_info": {
   "codemirror_mode": {
    "name": "ipython",
    "version": 2
   },
   "file_extension": ".py",
   "mimetype": "text/x-python",
   "name": "python",
   "nbconvert_exporter": "python",
   "pygments_lexer": "ipython2",
   "version": "2.7.6"
  }
 },
 "nbformat": 4,
 "nbformat_minor": 0
}

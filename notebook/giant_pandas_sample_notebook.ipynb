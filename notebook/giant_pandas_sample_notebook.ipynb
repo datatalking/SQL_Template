{
 "cells": [
  {
   "cell_type": "code",
   "execution_count": 2,
   "metadata": {
    "collapsed": true
   },
   "outputs": [],
   "source": [
    "# SOURCE"
   ]
  },
  {
   "cell_type": "code",
   "execution_count": 4,
   "outputs": [],
   "source": [
    "def test_pivot(self):\n",
    "    data = {\n",
    "        'index' : ['A', 'B', 'C', 'C', 'B', 'A'],\n",
    "        'columns' : ['One', 'One', 'One', 'Two', 'Two', 'Two'],\n",
    "        'values' : [1., 2., 3., 3., 2., 1.]\n",
    "    }\n",
    "\n",
    "    frame = DataFrame(data)\n",
    "    pivoted = frame.pivot(index='index', columns='columns', values='values')\n",
    "\n",
    "    expected = DataFrame({\n",
    "        'One' : {'A' : 1., 'B' : 2., 'C' : 3.},\n",
    "        'Two' : {'A' : 1., 'B' : 2., 'C' : 3.}\n",
    "    })\n",
    "\n",
    "    assert_frame_equal(pivoted, expected)"
   ],
   "metadata": {
    "collapsed": false
   }
  }
 ],
 "metadata": {
  "kernelspec": {
   "display_name": "Python 3",
   "language": "python",
   "name": "python3"
  },
  "language_info": {
   "codemirror_mode": {
    "name": "ipython",
    "version": 2
   },
   "file_extension": ".py",
   "mimetype": "text/x-python",
   "name": "python",
   "nbconvert_exporter": "python",
   "pygments_lexer": "ipython2",
   "version": "2.7.6"
  }
 },
 "nbformat": 4,
 "nbformat_minor": 0
}
